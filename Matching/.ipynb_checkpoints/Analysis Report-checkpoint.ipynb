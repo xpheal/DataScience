{
 "cells": [
  {
   "cell_type": "markdown",
   "metadata": {},
   "source": [
    "# Analysis Report\n",
    "## Files\n",
    "setC.csv = data obtained from the blocking stage  \n",
    "sampleA.csv = 800 rows that are sample with (seed = 10) from setC"
   ]
  },
  {
   "cell_type": "code",
   "execution_count": 148,
   "metadata": {
    "collapsed": false
   },
   "outputs": [],
   "source": [
    "import csv\n",
    "\n",
    "setC = None\n",
    "with open('sampleA.csv', 'r') as file:\n",
    "    setA = list(csv.reader(file))\n",
    "\n",
    "class attr:\n",
    "    label = 0\n",
    "    _id = 1\n",
    "    ltable_Id = 2\n",
    "    rtable_Id = 3\n",
    "    ltable_Title = 4\n",
    "    ltable_Category = 5\n",
    "    ltable_Duration = 6\n",
    "    ltable_Rating = 7\n",
    "    ltable_Rating_Count = 8\n",
    "    ltable_Director = 9 \n",
    "    rtable_Title = 10\n",
    "    rtable_Category = 11\n",
    "    rtable_Duration = 12\n",
    "    rtable_Rating = 13\n",
    "    rtable_Rating_Count = 14\n",
    "    rtable_Director = 15\n",
    "    strings = ['label', '_id', 'ltable_Id', 'rtable_Id', 'ltable_Title', 'ltable_Category', \n",
    "               'ltable_Duration', 'ltable_Rating', 'ltable_Rating_Count', 'ltable_Director', \n",
    "               'rtable_Title', 'rtable_Category', 'rtable_Duration', 'rtable_Rating', 'rtable_Rating_Count',\n",
    "               'rtable_Director']"
   ]
  },
  {
   "cell_type": "code",
   "execution_count": 149,
   "metadata": {
    "collapsed": false
   },
   "outputs": [],
   "source": [
    "# Calculate number of null value for each attributes\n",
    "def check_null(setx):\n",
    "    num_null = [0 for i in range(16)]\n",
    "    \n",
    "    for row in setx:\n",
    "        for pos, val in enumerate(row):\n",
    "            if not val:\n",
    "                num_null[pos] += 1\n",
    "    \n",
    "    for pos, val in enumerate(num_null):\n",
    "        print(attr.strings[pos] + \": \" + str(val))"
   ]
  },
  {
   "cell_type": "code",
   "execution_count": 150,
   "metadata": {
    "collapsed": true
   },
   "outputs": [],
   "source": [
    "# Define a function that scan the whole table and remove null value based on pos\n",
    "def fill_null(setx, pos, val):\n",
    "    for row in setx:\n",
    "        if not row[pos]:\n",
    "            row[pos] = val"
   ]
  },
  {
   "cell_type": "code",
   "execution_count": 152,
   "metadata": {
    "collapsed": false,
    "scrolled": false
   },
   "outputs": [
    {
     "name": "stdout",
     "output_type": "stream",
     "text": [
      "label: 0\n",
      "_id: 0\n",
      "ltable_Id: 0\n",
      "rtable_Id: 0\n",
      "ltable_Title: 0\n",
      "ltable_Category: 12\n",
      "ltable_Duration: 0\n",
      "ltable_Rating: 93\n",
      "ltable_Rating_Count: 93\n",
      "ltable_Director: 248\n",
      "rtable_Title: 0\n",
      "rtable_Category: 38\n",
      "rtable_Duration: 131\n",
      "rtable_Rating: 201\n",
      "rtable_Rating_Count: 0\n",
      "rtable_Director: 97\n"
     ]
    }
   ],
   "source": [
    "# Values with null item, size of setA = 800\n",
    "check_null(setA)\n",
    "fill_null(setA, attr.ltable_Rating, 0)\n",
    "fill_null(setA, attr.rtable_Rating, 0)"
   ]
  },
  {
   "cell_type": "markdown",
   "metadata": {},
   "source": [
    "## Begin Matching\n",
    "Start by converting each labelled row into a feature vector"
   ]
  },
  {
   "cell_type": "code",
   "execution_count": 153,
   "metadata": {
    "collapsed": false
   },
   "outputs": [],
   "source": [
    "from sklearn import tree\n",
    "from py_stringmatching.tokenizer.delimiter_tokenizer import DelimiterTokenizer\n",
    "from py_stringmatching.similarity_measure.levenshtein import Levenshtein\n",
    "\n",
    "delim_tkn = DelimiterTokenizer()\n",
    "lev = Levenshtein()"
   ]
  },
  {
   "cell_type": "code",
   "execution_count": 154,
   "metadata": {
    "collapsed": false
   },
   "outputs": [],
   "source": [
    "def title_match(tit_x, tit_y):\n",
    "    return lev.get_raw_score(tit_x, tit_y)\n",
    "\n",
    "def category_match(cat_x, cat_y):\n",
    "    return lev.get_raw_score(cat_x, cat_y)\n",
    "    \n",
    "def rating_match(rat_x, rat_y):\n",
    "    return abs(float(rat_x) - float(rat_y))\n",
    "    \n",
    "def director_match(dir_x, dir_y):\n",
    "    return lev.get_raw_score(dir_x, dir_y)"
   ]
  },
  {
   "cell_type": "code",
   "execution_count": 170,
   "metadata": {
    "collapsed": true
   },
   "outputs": [],
   "source": [
    "def get_feature(setx):\n",
    "    feature = []\n",
    "    label = []\n",
    "    \n",
    "    for row in setx:\n",
    "        label += [row[attr.label]]\n",
    "        \n",
    "        x_0 = title_match(row[attr.ltable_Title], row[attr.rtable_Title])\n",
    "        x_1 = category_match(row[attr.ltable_Category], row[attr.rtable_Category])\n",
    "        x_2 = rating_match(row[attr.ltable_Rating], row[attr.rtable_Rating])\n",
    "        x_3 = director_match(row[attr.ltable_Director], row[attr.rtable_Director])\n",
    "        \n",
    "        feature += [[x_0, x_1, x_2, x_3]]\n",
    "        \n",
    "    return feature, label\n",
    "    "
   ]
  },
  {
   "cell_type": "code",
   "execution_count": 181,
   "metadata": {
    "collapsed": true
   },
   "outputs": [],
   "source": [
    "def get_ltable(setx):\n",
    "    return [[row[attr.ltable_Id]] + row[attr.ltable_Title:attr.ltable_Director + 1]for row in setx]\n",
    "\n",
    "def get_rtable(setx):\n",
    "    return [[row[attr.rtable_Id]] + row[attr.rtable_Title:]for row in setx]\n",
    "\n",
    "def get_label(setx):\n",
    "    return [row[attr.label] for row in setx]"
   ]
  },
  {
   "cell_type": "code",
   "execution_count": 171,
   "metadata": {
    "collapsed": false
   },
   "outputs": [],
   "source": [
    "# Decision Tree Classifier\n",
    "feature, label = get_feature(setA[1:])\n",
    "\n",
    "clf = tree.DecisionTreeClassifier()\n",
    "clf = clf.fit(feature, label)"
   ]
  },
  {
   "cell_type": "code",
   "execution_count": 185,
   "metadata": {
    "collapsed": true
   },
   "outputs": [
    {
     "name": "stdout",
     "output_type": "stream",
     "text": [
      "ltable: ['13312', 'Day of the Dove', 'Action,Adventure,Mystery', '51', '80.0', '1143.0', 'Marvin J. Chomsky']\n",
      "rtable: ['482', 'Enemy of the State', 'Action,Adventure,Mystery', '150.0', '70.0', '372512', 'Tony Scott,']\n",
      "Result: -1 Label: -1\n",
      "ltable: ['512', 'Grumpy Old Men', 'Comedy,Drama,Romance', '103', '69.0', '34973.0', 'Donald Petrie']\n",
      "rtable: ['7988', 'Grumpy Old Men', 'Comedy,Drama', '103.0', '64.0', '154021', 'Donald Petrie,']\n",
      "Result: -1 Label: -1\n",
      "ltable: ['9308', 'American Gladiators', 'Action,Television,Sport', '60', '66.0', '1516.0', '']\n",
      "rtable: ['8970', 'American Splendor', 'Art House,International,Comedy,Drama', '100.0', '74.0', '44354', 'Robert Pulcini,Shari Springer Berman,']\n",
      "Result: -1 Label: -1\n",
      "ltable: ['10728', 'Iceman', 'Drama,Sci-Fi', '100', '61.0', '4148.0', 'Fred Schepisi']\n",
      "rtable: ['5738', 'Iceman', 'Drama,Science Fiction,Fantasy', '101.0', '60.0', '3130', 'Fred Schepisi,']\n",
      "Result: -1 Label: -1\n",
      "ltable: ['13447', 'Tom & Viv', 'Biography,Drama,Romance', '115', '65.0', '1304.0', 'Brian Gilbert']\n",
      "rtable: ['2805', 'Tom & Viv', 'Drama,Romance', '125.0', '66.0', '1304', 'Brian Gilbert,']\n",
      "Result: -1 Label: -1\n",
      "ltable: ['247', 'Challenge of the Superfriends', 'Animation,Action,Family', '30', '78.0', '965.0', '']\n",
      "rtable: ['9845', 'Revenge of the Nerds', 'Comedy', '90.0', '66.0', '56267', 'Jeff Kanew,']\n",
      "Result: -1 Label: -1\n",
      "ltable: ['4117', 'The Black Adder', 'Comedy', '195', '82.0', '27200.0', '']\n",
      "rtable: ['995', 'The Black Cauldron', 'Action,Adventure,Animation,Kids,Family,Science Fiction,Fantasy', '82.0', '62.0', '45423', 'Ted Berman,Richard Rich,']\n",
      "Result: -1 Label: -1\n",
      "ltable: ['10099', 'Wonder Woman', 'Action,Adventure,Fantasy', '45', '45.0', '1440.0', 'Jeffrey Reiner']\n",
      "rtable: ['8072', 'Wonder Woman', 'Action,Adventure,Science Fiction,Fantasy', '', 0, '5555', 'Patty Jenkins,']\n",
      "Result: -1 Label: -1\n",
      "ltable: ['21331', 'The Book of Pooh', 'Family', '30', '63.0', '352.0', '']\n",
      "rtable: ['17555', 'The Sign of Four', 'Action,Adventure,Mystery', '90.0', '62.0', '16', 'Rodney Gibbons,']\n",
      "Result: -1 Label: -1\n",
      "ltable: ['10995', 'The Year of the Mouse', 'Animation,Family,Short', '6', '68.0', '191.0', 'Chuck Jones,Maurice Noble']\n",
      "rtable: ['14813', 'Trial of the Moke', 'Drama', '90.0', 0, '15', '']\n",
      "Result: -1 Label: -1\n"
     ]
    }
   ],
   "source": [
    "# Test the classifier\n",
    "setT = setA[1:11]\n",
    "x, y = get_feature(setT)\n",
    "\n",
    "result = clf.predict(x)\n",
    "ltable = get_ltable(setT)\n",
    "rtable = get_rtable(setT)\n",
    "label = get_label(setT)\n",
    "\n",
    "for pos,res in enumerate(result):\n",
    "    print(\"ltable: \" + str(ltable[pos]))\n",
    "    print(\"rtable: \" + str(rtable[pos]))\n",
    "    print(\"Result: \" + str(res) + \" Label: \" + str(label[pos]))"
   ]
  }
 ],
 "metadata": {
  "kernelspec": {
   "display_name": "Python 3",
   "language": "python",
   "name": "python3"
  },
  "language_info": {
   "codemirror_mode": {
    "name": "ipython",
    "version": 3
   },
   "file_extension": ".py",
   "mimetype": "text/x-python",
   "name": "python",
   "nbconvert_exporter": "python",
   "pygments_lexer": "ipython3",
   "version": "3.5.2"
  }
 },
 "nbformat": 4,
 "nbformat_minor": 1
}
