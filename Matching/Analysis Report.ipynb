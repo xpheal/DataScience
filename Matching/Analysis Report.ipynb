{
 "cells": [
  {
   "cell_type": "markdown",
   "metadata": {},
   "source": [
    "# Analysis Report\n",
    "## Files\n",
    "setC.csv = data obtained from the blocking stage  \n",
    "sampleA.csv = 800 rows that are sample with (seed = 10) from setC"
   ]
  },
  {
   "cell_type": "code",
   "execution_count": 1,
   "metadata": {
    "collapsed": false
   },
   "outputs": [],
   "source": [
    "import csv\n",
    "\n",
    "setC = None\n",
    "with open('labelled.csv', 'r') as file:\n",
    "    setA = list(csv.reader(file))\n",
    "    setA = setA[1:] # Remove header\n",
    "    setB = setA[375:] # Evaluation set\n",
    "    setA = setA[:375] # Development set\n",
    "\n",
    "class attr:\n",
    "    label = 0\n",
    "    _id = 1\n",
    "    ltable_Id = 2\n",
    "    rtable_Id = 3\n",
    "    ltable_Title = 4\n",
    "    ltable_Category = 5\n",
    "    ltable_Duration = 6\n",
    "    ltable_Rating = 7\n",
    "    ltable_Rating_Count = 8\n",
    "    ltable_Director = 9 \n",
    "    rtable_Title = 10\n",
    "    rtable_Category = 11\n",
    "    rtable_Duration = 12\n",
    "    rtable_Rating = 13\n",
    "    rtable_Rating_Count = 14\n",
    "    rtable_Director = 15\n",
    "    strings = ['label', '_id', 'ltable_Id', 'rtable_Id', 'ltable_Title', 'ltable_Category', \n",
    "               'ltable_Duration', 'ltable_Rating', 'ltable_Rating_Count', 'ltable_Director', \n",
    "               'rtable_Title', 'rtable_Category', 'rtable_Duration', 'rtable_Rating', 'rtable_Rating_Count',\n",
    "               'rtable_Director']"
   ]
  },
  {
   "cell_type": "code",
   "execution_count": 2,
   "metadata": {
    "collapsed": false
   },
   "outputs": [],
   "source": [
    "# Calculate number of null value for each attributes\n",
    "def check_null(setx):\n",
    "    num_null = [0 for i in range(16)]\n",
    "    \n",
    "    for row in setx:\n",
    "        for pos, val in enumerate(row):\n",
    "            if not val:\n",
    "                num_null[pos] += 1\n",
    "    \n",
    "    for pos, val in enumerate(num_null):\n",
    "        print(attr.strings[pos] + \": \" + str(val))"
   ]
  },
  {
   "cell_type": "code",
   "execution_count": 3,
   "metadata": {
    "collapsed": true
   },
   "outputs": [],
   "source": [
    "# Define a function that scan the whole table and remove null value based on pos\n",
    "def fill_null(setx, pos, val):\n",
    "    for row in setx:\n",
    "        if not row[pos]:\n",
    "            row[pos] = val"
   ]
  },
  {
   "cell_type": "code",
   "execution_count": 4,
   "metadata": {
    "collapsed": false
   },
   "outputs": [],
   "source": [
    "# Values with null item, size of setA = 800\n",
    "# print(\"SetA\")\n",
    "# check_null(setA)\n",
    "fill_null(setA, attr.ltable_Rating, 0)\n",
    "fill_null(setA, attr.rtable_Rating, 0)\n",
    "fill_null(setA, attr.ltable_Duration, 0)\n",
    "fill_null(setA, attr.rtable_Duration, 0)\n",
    "fill_null(setA, attr.ltable_Rating_Count, 0)\n",
    "fill_null(setA, attr.rtable_Rating_Count, 0)\n",
    "# print(\"SetB\")\n",
    "# check_null(setB)\n",
    "fill_null(setB, attr.ltable_Rating, 0)\n",
    "fill_null(setB, attr.rtable_Rating, 0)\n",
    "fill_null(setB, attr.ltable_Duration, 0)\n",
    "fill_null(setB, attr.rtable_Duration, 0)\n",
    "fill_null(setB, attr.ltable_Rating_Count, 0)\n",
    "fill_null(setB, attr.rtable_Rating_Count, 0)"
   ]
  },
  {
   "cell_type": "markdown",
   "metadata": {},
   "source": [
    "## Begin Matching\n",
    "Start by converting each labelled row into a feature vector"
   ]
  },
  {
   "cell_type": "code",
   "execution_count": 57,
   "metadata": {
    "collapsed": false
   },
   "outputs": [],
   "source": [
    "from sklearn import tree, ensemble, linear_model, svm, naive_bayes\n",
    "from sklearn.model_selection import KFold\n",
    "from py_stringmatching.tokenizer.delimiter_tokenizer import DelimiterTokenizer\n",
    "from py_stringmatching.similarity_measure.levenshtein import Levenshtein\n",
    "\n",
    "delim_tkn = DelimiterTokenizer()\n",
    "lev = Levenshtein()\n",
    "\n",
    "class_group = ['d', 'l', 'r', 's', 'n']\n",
    "names = {'d':'DECISION TREE', 'l':'LOGISTIC REGRESSION', 'r':'RANDOM FOREST', 's':'SUPPORT VECTOR MACHING', 'n':'NAIVE BAYES'}"
   ]
  },
  {
   "cell_type": "code",
   "execution_count": 6,
   "metadata": {
    "collapsed": false
   },
   "outputs": [],
   "source": [
    "def title_match(x, y):\n",
    "    return lev.get_raw_score(x, y)\n",
    "\n",
    "def category_match(x, y):\n",
    "    return lev.get_raw_score(x, y)\n",
    "    \n",
    "def rating_match(x, y):\n",
    "    return abs(float(x) - float(y))\n",
    "    \n",
    "def director_match(x, y):\n",
    "    return lev.get_raw_score(x, y)\n",
    "\n",
    "def rating_count_match(x, y):\n",
    "    return abs(float(x) - float(y))\n",
    "\n",
    "def duration_match(x, y):\n",
    "    return abs(float(x) - float(y))"
   ]
  },
  {
   "cell_type": "code",
   "execution_count": 7,
   "metadata": {
    "collapsed": true
   },
   "outputs": [],
   "source": [
    "# Given a set, return the feature vectors and label\n",
    "def get_feature(setx):\n",
    "    feature = []\n",
    "    label = []\n",
    "    \n",
    "    for row in setx:\n",
    "        label += [row[attr.label]]\n",
    "        \n",
    "        x_0 = title_match(row[attr.ltable_Title], row[attr.rtable_Title])\n",
    "        x_1 = category_match(row[attr.ltable_Category], row[attr.rtable_Category])\n",
    "        x_2 = rating_match(row[attr.ltable_Rating], row[attr.rtable_Rating])\n",
    "        x_3 = director_match(row[attr.ltable_Director], row[attr.rtable_Director])\n",
    "        x_4 = duration_match(row[attr.ltable_Duration], row[attr.rtable_Duration])\n",
    "        x_5 = rating_count_match(row[attr.ltable_Rating_Count], row[attr.rtable_Rating_Count])\n",
    "        \n",
    "        feature += [[x_0, x_1, x_2, x_3]]\n",
    "        \n",
    "    return feature, label\n",
    "    "
   ]
  },
  {
   "cell_type": "code",
   "execution_count": 8,
   "metadata": {
    "collapsed": true
   },
   "outputs": [],
   "source": [
    "def get_ltable(setx):\n",
    "    return [[row[attr.ltable_Id]] + row[attr.ltable_Title:attr.ltable_Director + 1]for row in setx]\n",
    "\n",
    "def get_rtable(setx):\n",
    "    return [[row[attr.rtable_Id]] + row[attr.rtable_Title:]for row in setx]\n",
    "\n",
    "def get_label(setx):\n",
    "    return [row[attr.label] for row in setx]"
   ]
  },
  {
   "cell_type": "code",
   "execution_count": 9,
   "metadata": {
    "collapsed": false
   },
   "outputs": [],
   "source": [
    "# Given a list of real result and predicted result, calculate precision, recall and F1\n",
    "def get_F1(real, predicted):\n",
    "    true_positive = 0\n",
    "    true_negative = 0\n",
    "    false_positive = 0\n",
    "    false_negative = 0\n",
    "    \n",
    "    for pos,res in enumerate(predicted):\n",
    "        if res == real[pos]:\n",
    "            if res == '1':\n",
    "                true_positive += 1\n",
    "            else:\n",
    "                true_negative += 1\n",
    "        else:\n",
    "            if res == '1':\n",
    "                false_positive += 1\n",
    "            else:\n",
    "                false_negative += 1\n",
    "    \n",
    "    # If true_positive, false_positive or false_negative causes zero error: set precision, recall and F1 to zero\n",
    "    try:\n",
    "        precision = true_positive / (true_positive + false_positive)\n",
    "        recall = true_positive / (true_positive + false_negative)\n",
    "        F1 = 2 * precision * recall / (precision + recall)\n",
    "    except ZeroDivisionError:\n",
    "        return 0,0,0\n",
    "    \n",
    "    return precision, recall, F1"
   ]
  },
  {
   "cell_type": "code",
   "execution_count": 10,
   "metadata": {
    "collapsed": false
   },
   "outputs": [],
   "source": [
    "def debug_x(ltable, rtable, label, predicted):\n",
    "    for pos,res in enumerate(predicted):\n",
    "        if res != label[pos]:\n",
    "            print(\"ltable: \" + str(ltable[pos]))\n",
    "            print(\"rtable: \" + str(rtable[pos]))\n",
    "            print(\"Label: \" + str(label[pos]) + \" Predicted: \" + str(res))"
   ]
  },
  {
   "cell_type": "code",
   "execution_count": 11,
   "metadata": {
    "collapsed": true
   },
   "outputs": [],
   "source": [
    "# Test setx using the classifier = clf\n",
    "def clf_test(setx, clf, test_name='TEST', verbose=False, get_feature=get_feature, debug=False):\n",
    "    feature, label = get_feature(setx)\n",
    "    result = clf.predict(feature)\n",
    "    precision, recall, F1 = get_F1(label, result)\n",
    "    \n",
    "    if debug:\n",
    "        debug_x(get_ltable(setx), get_rtable(setx), label, result)\n",
    "    \n",
    "    if verbose:\n",
    "        print()\n",
    "        print(test_name.upper())\n",
    "        print(\"Precision: \" + str(precision))\n",
    "        print(\"Recall: \" + str(recall))\n",
    "        print(\"F1: \" + str(F1))\n",
    "    \n",
    "    return precision, recall, F1"
   ]
  },
  {
   "cell_type": "code",
   "execution_count": 61,
   "metadata": {
    "collapsed": false
   },
   "outputs": [],
   "source": [
    "# Train and test on setx using the classifier = clf and k-fold validation = k\n",
    "# Return the average (precision, recall, F1)\n",
    "# clf : 'd' = DecisionTree, 'l' = Logistic Regression, 'r' = Random Forest, 's' = Support Vector Machine, 'n' = Naive Bayes\n",
    "def clf_train(setx, clf, k, verbose=False, get_feature=get_feature, debug=False):\n",
    "    if not clf in class_group:\n",
    "        print(\"ERROR: clf must be either = 'd', 'l', 'r', 's', 'n'\")\n",
    "        return\n",
    "        \n",
    "    # Decision Tree Classifier using k-Fold = 4\n",
    "    split = 4\n",
    "    k_fold = KFold(n_splits=split)\n",
    "    total_precision = 0\n",
    "    total_recall = 0\n",
    "    total_F1 = 0\n",
    "    \n",
    "    for train, test in k_fold.split(setx):\n",
    "        train = setx[train[0]:train[-1] + 1]\n",
    "        test = setx[test[0]:test[-1] + 1]\n",
    "        feature, label = get_feature(train)\n",
    "        clf_x = None\n",
    "        \n",
    "        if clf == 'd':\n",
    "            clf_x = tree.DecisionTreeClassifier()\n",
    "        elif clf == 'l':\n",
    "            clf_x = linear_model.LogisticRegression()\n",
    "        elif clf == 'r':\n",
    "            clf_x = ensemble.RandomForestClassifier()\n",
    "        elif clf == 's':\n",
    "            clf_x = svm.SVC()\n",
    "        elif clf == 'n':\n",
    "            clf_x = naive_bayes.GaussianNB()\n",
    "                \n",
    "        clf_x = clf_x.fit(feature, label)\n",
    "        \n",
    "        precision, recall, F1 = clf_test(test, clf_x, get_feature=get_feature, debug=debug)\n",
    "\n",
    "        total_precision += precision\n",
    "        total_recall += recall\n",
    "        total_F1 += F1\n",
    "        \n",
    "    precision = total_precision/split\n",
    "    recall = total_recall/split\n",
    "    F1 = total_F1/split\n",
    "    if verbose:\n",
    "        print()\n",
    "        print(names[clf] + \" CLASSIFIER\")\n",
    "        print(\"Precision: \" + str(precision))\n",
    "        print(\"Recall: \" + str(recall))\n",
    "        print(\"F1: \" + str(F1))\n",
    "    \n",
    "    return precision, recall, F1"
   ]
  },
  {
   "cell_type": "code",
   "execution_count": 62,
   "metadata": {
    "collapsed": false,
    "scrolled": true
   },
   "outputs": [
    {
     "name": "stdout",
     "output_type": "stream",
     "text": [
      "\n",
      "DECISION TREE CLASSIFIER\n",
      "Precision: 0.975615763546798\n",
      "Recall: 0.9928571428571429\n",
      "F1: 0.9839285714285715\n"
     ]
    }
   ],
   "source": [
    "# Decision Tree Classifier using k-Fold = 4\n",
    "precision, recall, F1 = clf_train(setA, 'd', 4, verbose=True, get_feature=get_feature)"
   ]
  },
  {
   "cell_type": "code",
   "execution_count": 63,
   "metadata": {
    "collapsed": false
   },
   "outputs": [
    {
     "name": "stdout",
     "output_type": "stream",
     "text": [
      "\n",
      "LOGISTIC REGRESSION CLASSIFIER\n",
      "Precision: 0.9305184773204795\n",
      "Recall: 0.901147382029735\n",
      "F1: 0.9137459926080209\n"
     ]
    }
   ],
   "source": [
    "# Logistic Regression Classifier using k-Fold = 4\n",
    "precision, recall, F1 = clf_train(setA, 'l', 4, verbose=True, get_feature=get_feature)"
   ]
  },
  {
   "cell_type": "code",
   "execution_count": 64,
   "metadata": {
    "collapsed": false
   },
   "outputs": [
    {
     "name": "stdout",
     "output_type": "stream",
     "text": [
      "\n",
      "RANDOM FOREST CLASSIFIER\n",
      "Precision: 0.975615763546798\n",
      "Recall: 0.9707983193277311\n",
      "F1: 0.97239010989011\n"
     ]
    }
   ],
   "source": [
    "# Random Forest Classifier using k-Fold = 4\n",
    "precision, recall, F1 = clf_train(setA, 'r', 4, verbose=True, get_feature=get_feature)"
   ]
  },
  {
   "cell_type": "code",
   "execution_count": 65,
   "metadata": {
    "collapsed": false
   },
   "outputs": [
    {
     "name": "stdout",
     "output_type": "stream",
     "text": [
      "\n",
      "SUPPORT VECTOR MACHING CLASSIFIER\n",
      "Precision: 1.0\n",
      "Recall: 0.8216931216931217\n",
      "F1: 0.8914576802507836\n"
     ]
    }
   ],
   "source": [
    "# Support Vector Machine Classifier using k-Fold = 4\n",
    "precision, recall, F1 = clf_train(setA, 's', 4, verbose=True, get_feature=get_feature)"
   ]
  },
  {
   "cell_type": "code",
   "execution_count": 66,
   "metadata": {
    "collapsed": false,
    "scrolled": true
   },
   "outputs": [
    {
     "name": "stdout",
     "output_type": "stream",
     "text": [
      "\n",
      "NAIVE BAYES CLASSIFIER\n",
      "Precision: 0.9004294093003771\n",
      "Recall: 0.9082902391725921\n",
      "F1: 0.9027294858564209\n"
     ]
    }
   ],
   "source": [
    "# Naive Bayes Classifier using k-Fold = 4\n",
    "precision, recall, F1 = clf_train(setA, 'n', 4, verbose=True, get_feature=get_feature)"
   ]
  },
  {
   "cell_type": "markdown",
   "metadata": {},
   "source": [
    "## Debug Classifier\n",
    "Most classfiers return an F1-Score of 0.9 and above, the accuracy is consider high. When tested on the isolated evaluation set, the F1-Score is around 0.9 too. But, we will try to make the classifier even better.  \n",
    "\n",
    "Some things that we plan to look into are:  \n",
    "1) Conversion of data into feature vectors  \n",
    "2) Classifier that is used, we might be able to tweak the scikit classifier"
   ]
  },
  {
   "cell_type": "markdown",
   "metadata": {},
   "source": [
    "## Changes Made\n",
    "Added two new feature vectors:  \n"
   ]
  },
  {
   "cell_type": "code",
   "execution_count": 353,
   "metadata": {
    "collapsed": true
   },
   "outputs": [],
   "source": [
    "def title_match2(x, y):\n",
    "    return lev.get_sim_score(x, y)\n",
    "\n",
    "def category_match2(x, y):\n",
    "    cat_x = x.split(',')\n",
    "    cat_y = y.split(',')\n",
    "    \n",
    "    count = 0\n",
    "    for i in cat_x:\n",
    "        for j in cat_y:\n",
    "            if i == j:\n",
    "                count += 1\n",
    "    return count\n",
    "    \n",
    "def rating_match2(x, y):\n",
    "    return abs(float(x) - float(y))\n",
    "    \n",
    "def director_match2(x, y):\n",
    "    dir_x = x.split(',')\n",
    "    dir_y = x.split(',')\n",
    "    \n",
    "    count = 0\n",
    "    for i in dir_x:\n",
    "        for j in dir_y:\n",
    "            ii = i.strip()\n",
    "            jj = j.strip()\n",
    "            if ii and jj:\n",
    "                if lev.get_sim_score(ii,jj) > 0.9:\n",
    "                    count += 1\n",
    "    return count\n",
    "\n",
    "def rating_count_match2(x, y):\n",
    "    return math.sqrt(math.sqrt(abs(float(x) - float(y))))\n",
    "\n",
    "def duration_match2(x, y):\n",
    "    return math.sqrt(math.sqrt(abs(float(x) - float(y))))"
   ]
  },
  {
   "cell_type": "code",
   "execution_count": 347,
   "metadata": {
    "collapsed": true
   },
   "outputs": [],
   "source": [
    "# Given a set, return the feature vectors and label\n",
    "def get_feature2(setx):\n",
    "    feature = []\n",
    "    label = []\n",
    "    \n",
    "    for row in setx:\n",
    "        label += [row[attr.label]]\n",
    "        \n",
    "        x_0 = title_match2(row[attr.ltable_Title], row[attr.rtable_Title])\n",
    "        x_1 = category_match2(row[attr.ltable_Category], row[attr.rtable_Category])\n",
    "        x_2 = rating_match2(row[attr.ltable_Rating], row[attr.rtable_Rating])\n",
    "        x_3 = director_match2(row[attr.ltable_Director], row[attr.rtable_Director])\n",
    "        x_4 = duration_match2(row[attr.ltable_Duration], row[attr.rtable_Duration])\n",
    "        x_5 = rating_count_match2(row[attr.ltable_Rating_Count], row[attr.rtable_Rating_Count])\n",
    "        \n",
    "        feature += [[x_0, x_1, x_2, x_3, x_4, x_5]]\n",
    "        \n",
    "    return feature, label\n",
    "    "
   ]
  },
  {
   "cell_type": "code",
   "execution_count": 20,
   "metadata": {
    "collapsed": false
   },
   "outputs": [],
   "source": [
    "import matplotlib.pyplot as plot\n",
    "from numpy import linspace as lins\n",
    "import math"
   ]
  },
  {
   "cell_type": "code",
   "execution_count": 21,
   "metadata": {
    "collapsed": false,
    "scrolled": false
   },
   "outputs": [
    {
     "data": {
      "image/png": "[encoded data removed]",
      "text/plain": [
       "<matplotlib.figure.Figure at 0x7f4d78d29dd8>"
      ]
     },
     "metadata": {},
     "output_type": "display_data"
    }
   ],
   "source": [
    "x = lins(0,1000)\n",
    "y = list(map(lambda x:math.sqrt(math.sqrt(x)), x))\n",
    "plot.plot(x,y)\n",
    "plot.show()"
   ]
  },
  {
   "cell_type": "code",
   "execution_count": 239,
   "metadata": {
    "collapsed": false,
    "scrolled": true
   },
   "outputs": [
    {
     "name": "stdout",
     "output_type": "stream",
     "text": [
      "\n",
      "DECISION TREE CLASSIFIER\n",
      "Precision: 0.9357142857142857\n",
      "Recall: 0.9436507936507936\n",
      "F1: 0.9396103896103896\n",
      "\n",
      "LOGISTIC REGRESSION CLASSIFIER\n",
      "Precision: 0.8570315305609423\n",
      "Recall: 0.9184071919366036\n",
      "F1: 0.8841245546553295\n",
      "\n",
      "RANDOM FOREST CLASSIFIER\n",
      "Precision: 0.9609375\n",
      "Recall: 0.9714285714285714\n",
      "F1: 0.9636620441705188\n",
      "\n",
      "SUPPORT VECTOR MACHING CLASSIFIER\n",
      "Precision: 0.8588144935393512\n",
      "Recall: 0.919183485359956\n",
      "F1: 0.8867573345127525\n",
      "\n",
      "NAIVE BAYES CLASSIFIER\n",
      "Precision: 0.9406986662531018\n",
      "Recall: 0.9301389786683903\n",
      "F1: 0.9333326735025139\n"
     ]
    }
   ],
   "source": [
    "# Debug Classifiers using k-Fold = 4\n",
    "precision, recall, F1 = clf_train(setA, 'd', 4, verbose=True, get_feature=get_feature2, debug=False)\n",
    "precision, recall, F1 = clf_train(setA, 'l', 4, verbose=True, get_feature=get_feature2, debug=False)\n",
    "precision, recall, F1 = clf_train(setA, 'r', 4, verbose=True, get_feature=get_feature2, debug=False)\n",
    "precision, recall, F1 = clf_train(setA, 's', 4, verbose=True, get_feature=get_feature2, debug=False)\n",
    "precision, recall, F1 = clf_train(setA, 'n', 4, verbose=True, get_feature=get_feature2, debug=False)"
   ]
  },
  {
   "cell_type": "code",
   "execution_count": 597,
   "metadata": {
    "collapsed": false
   },
   "outputs": [
    {
     "name": "stdout",
     "output_type": "stream",
     "text": [
      "Random Forest weights\n",
      "[ 0.51426482  0.08735854  0.12159018  0.03214225  0.23341049  0.01123372]\n",
      "\n",
      "RANDOM FOREST TEST\n",
      "Precision: 0.9795918367346939\n",
      "Recall: 0.9230769230769231\n",
      "F1: 0.9504950495049506\n"
     ]
    },
    {
     "name": "stderr",
     "output_type": "stream",
     "text": [
      "[Parallel(n_jobs=1)]: Done 200 out of 200 | elapsed:    0.1s finished\n",
      "[Parallel(n_jobs=1)]: Done 200 out of 200 | elapsed:    0.0s finished\n"
     ]
    }
   ],
   "source": [
    "# Debug on only random forest\n",
    "clf = ensemble.RandomForestClassifier(verbose=True, min_samples_split=0.15, min_samples_leaf=3, n_estimators=200)\n",
    "train,test = setA[:225], setA[225:]\n",
    "feature, label = get_feature2(train)\n",
    "clf.fit(feature, label)\n",
    "path_x = clf.feature_importances_\n",
    "print(\"Random Forest weights\")\n",
    "# Result shows that weights are mostly place on \"Title\", \"Director\", \"Rating\", \"Duration\"\n",
    "# \"Title\" \"Category\" \"Rating\" \"Director\" \"Duration\" \"Rating Count\"\n",
    "print(path_x)\n",
    "precision, recall, F1 = clf_test(test, clf, \"Random Forest Test\", get_feature=get_feature2, verbose=True)"
   ]
  },
  {
   "cell_type": "code",
   "execution_count": 606,
   "metadata": {
    "collapsed": false
   },
   "outputs": [
    {
     "name": "stdout",
     "output_type": "stream",
     "text": [
      "\n",
      "FINAL CLASSIFIER EVALUATION(RANDOM FOREST)\n",
      "Precision: 0.8823529411764706\n",
      "Recall: 0.967741935483871\n",
      "F1: 0.923076923076923\n"
     ]
    }
   ],
   "source": [
    "# Final Classifier\n",
    "clf = ensemble.RandomForestClassifier(min_samples_split=0.15, min_samples_leaf=3, n_estimators=200)\n",
    "feature, label = get_feature2(setA)\n",
    "clf = clf.fit(feature, label)\n",
    "precision, recall, F1 = clf_test(setB, clf, \"Final Classifier Evaluation(Random Forest)\", get_feature=get_feature2, verbose=True)"
   ]
  }
 ],
 "metadata": {
  "kernelspec": {
   "display_name": "Python 3",
   "language": "python",
   "name": "python3"
  },
  "language_info": {
   "codemirror_mode": {
    "name": "ipython",
    "version": 3
   },
   "file_extension": ".py",
   "mimetype": "text/x-python",
   "name": "python",
   "nbconvert_exporter": "python",
   "pygments_lexer": "ipython3",
   "version": "3.5.2"
  }
 },
 "nbformat": 4,
 "nbformat_minor": 1
}
